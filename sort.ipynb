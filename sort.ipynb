{
 "cells": [
  {
   "attachments": {},
   "cell_type": "markdown",
   "metadata": {},
   "source": [
    "# Sorting\n",
    "\n",
    "### Bubble Sort\n",
    "\n",
    "```fsharp\n",
    "[| X(i) <= X(i+1) |]\n",
    "[| 1;3;7;4;2 |]\n",
    "// ^>^? swap positions for each position\n",
    "[| 1;3;7;4;2 |] // N\n",
    "//     ^>^ ? yes\n",
    "// etc...\n",
    "[| 1;3;4;2;|7 |] // N - 1\n",
    "// after 1 iteration, largest value is at the end. \n",
    "// Next iteration doesn't need to go all the way to the end\n",
    "[| 1;3;2;|4;7 |] // N - 2\n",
    "[| 1;2;|3;4;7 |] // N -3\n",
    "[| 1;|2;3;4;7 |] // N - (N -1)\n",
    "// sorted\n",
    "```\n",
    "\n",
    "Each iteration results in `N - i` remaining positions to iterate over.\n",
    "> `(n(n + 1))/2 -> O(N^2 + N) -> O(N^2)`"
   ]
  },
  {
   "cell_type": "code",
   "execution_count": 30,
   "metadata": {
    "dotnet_interactive": {
     "language": "fsharp"
    },
    "polyglot_notebook": {
     "kernelName": "fsharp"
    }
   },
   "outputs": [
    {
     "data": {
      "text/html": [
       "<div class=\"dni-plaintext\"><pre>[ 1, 1, 1, 2, 2, 3, 3, 4, 6, 7, 12, 88 ]</pre></div><style>\r\n",
       ".dni-code-hint {\r\n",
       "    font-style: italic;\r\n",
       "    overflow: hidden;\r\n",
       "    white-space: nowrap;\r\n",
       "}\r\n",
       ".dni-treeview {\r\n",
       "    white-space: nowrap;\r\n",
       "}\r\n",
       ".dni-treeview td {\r\n",
       "    vertical-align: top;\r\n",
       "    text-align: start;\r\n",
       "}\r\n",
       "details.dni-treeview {\r\n",
       "    padding-left: 1em;\r\n",
       "}\r\n",
       "table td {\r\n",
       "    text-align: start;\r\n",
       "}\r\n",
       "table tr { \r\n",
       "    vertical-align: top; \r\n",
       "    margin: 0em 0px;\r\n",
       "}\r\n",
       "table tr td pre \r\n",
       "{ \r\n",
       "    vertical-align: top !important; \r\n",
       "    margin: 0em 0px !important;\r\n",
       "} \r\n",
       "table th {\r\n",
       "    text-align: start;\r\n",
       "}\r\n",
       "</style>"
      ]
     },
     "metadata": {},
     "output_type": "display_data"
    }
   ],
   "source": [
    "// Bubble sort (sort in place algorithm)\n",
    "let bubble_sort (arr : int array) =\n",
    "    let len = arr.Length - 1\n",
    "    let rec walk_array (old_arr : int array) (i : int) (stop : int) =\n",
    "        if i < stop then\n",
    "            match arr[i] with\n",
    "            | x when x <= old_arr[i + 1] ->\n",
    "                walk_array old_arr (i + 1) stop\n",
    "            | _ ->\n",
    "                let high = old_arr[i] \n",
    "                arr[i] <- old_arr[i + 1]\n",
    "                arr[i + 1] <- high\n",
    "                walk_array arr (i + 1) stop\n",
    "        else ()\n",
    "    for stop in len .. -1 .. 0 do\n",
    "        walk_array arr 0 stop\n",
    "\n",
    "let unsorted_arr = [|6; 2; 4; 3; 7; 1; 3; 88; 12; 1; 1; 2; |]\n",
    "bubble_sort unsorted_arr\n",
    "unsorted_arr // now sorted!"
   ]
  },
  {
   "cell_type": "code",
   "execution_count": 29,
   "metadata": {
    "dotnet_interactive": {
     "language": "fsharp"
    },
    "polyglot_notebook": {
     "kernelName": "fsharp"
    }
   },
   "outputs": [
    {
     "data": {
      "text/html": [
       "<div class=\"dni-plaintext\"><pre>[ 1, 1, 1, 2, 2, 3, 3, 4, 6, 7, 12, 88 ]</pre></div><style>\r\n",
       ".dni-code-hint {\r\n",
       "    font-style: italic;\r\n",
       "    overflow: hidden;\r\n",
       "    white-space: nowrap;\r\n",
       "}\r\n",
       ".dni-treeview {\r\n",
       "    white-space: nowrap;\r\n",
       "}\r\n",
       ".dni-treeview td {\r\n",
       "    vertical-align: top;\r\n",
       "    text-align: start;\r\n",
       "}\r\n",
       "details.dni-treeview {\r\n",
       "    padding-left: 1em;\r\n",
       "}\r\n",
       "table td {\r\n",
       "    text-align: start;\r\n",
       "}\r\n",
       "table tr { \r\n",
       "    vertical-align: top; \r\n",
       "    margin: 0em 0px;\r\n",
       "}\r\n",
       "table tr td pre \r\n",
       "{ \r\n",
       "    vertical-align: top !important; \r\n",
       "    margin: 0em 0px !important;\r\n",
       "} \r\n",
       "table th {\r\n",
       "    text-align: start;\r\n",
       "}\r\n",
       "</style>"
      ]
     },
     "metadata": {},
     "output_type": "display_data"
    }
   ],
   "source": [
    "// Primeagen's implementation of bubble sort\n",
    "let bubble_sort (arr : int array) =\n",
    "    let len = arr.Length - 1\n",
    "    for i in 0 .. len do\n",
    "        // never thought to use `i` in the next nested loop\n",
    "        for j in 0 .. (len - 1 - i) do // -1 since indexing up 1 with arr[j + 1]\n",
    "            if (arr[j] > arr[j + 1]) then\n",
    "                let high = arr[j]\n",
    "                arr[j] <- arr[j + 1]\n",
    "                arr[j + 1] <- high\n",
    "\n",
    "let unsorted_arr = [|6; 2; 4; 3; 7; 1; 3; 88; 12; 1; 1; 2; |]\n",
    "bubble_sort unsorted_arr\n",
    "unsorted_arr // now sorted!"
   ]
  },
  {
   "attachments": {},
   "cell_type": "markdown",
   "metadata": {},
   "source": [
    "### Linked List\n",
    "A node based data structure.\n",
    "```\n",
    "(A) -> (B) -> (C) -> (D) Singly Linked List\n",
    "^^^ head\n",
    "(A) <-> (B) <-> (C) <-> (D) Doubly Linked List\n",
    "```\n",
    "Insert is `O(1)` time since it's only affecting `next` and `prev` properties of nodes.\n",
    "It doesn't depend on how big the input is.\n",
    "\n",
    "For Delete, order of operations is important because we can't break the chain.\n",
    "```fsharp\n",
    "B.next <- C.next\n",
    "D.prev <- C.prev\n",
    "C.prev <- C.next <- None\n",
    "```\n",
    "Delete is `O(1)`"
   ]
  },
  {
   "cell_type": "code",
   "execution_count": null,
   "metadata": {
    "dotnet_interactive": {
     "language": "fsharp"
    },
    "polyglot_notebook": {
     "kernelName": "fsharp"
    }
   },
   "outputs": [],
   "source": [
    "// Linked list interface\n",
    "type ILinkedList =\n",
    "    abstract member get_length : unit -> int\n",
    "    abstract member insert_at : index : int -> element : 'T -> unit\n",
    "    abstract member remove : element : 'T -> unit\n",
    "    abstract member remove_at : index : int -> unit\n",
    "    abstract member append : item : 'T -> unit\n",
    "    abstract member prepend : item : 'T -> unit\n",
    "    abstract member get : index : int -> 'T\n",
    "\n",
    "type Node<'a> = {\n",
    "    Value : 'a\n",
    "    Next : Node<'a> option\n",
    "    Prev: Node<'a> option\n",
    "}"
   ]
  },
  {
   "attachments": {},
   "cell_type": "markdown",
   "metadata": {},
   "source": [
    "### Queue\n",
    "Built on a Singly Linked-List\n",
    "\n",
    "```\n",
    "(A) -> (B) -> (C) -> (D)\n",
    " ^                    ^\n",
    "Head                 Tail\n",
    "```\n",
    "> Pushing and Popping are both `O(1)`\n",
    "\n",
    "Entering a world of DSA where constraints make things fast!\n",
    "The lack of features speeds up data structures."
   ]
  },
  {
   "cell_type": "code",
   "execution_count": 12,
   "metadata": {
    "dotnet_interactive": {
     "language": "fsharp"
    },
    "polyglot_notebook": {
     "kernelName": "fsharp"
    }
   },
   "outputs": [
    {
     "name": "stdout",
     "output_type": "stream",
     "text": [
      "testing queue\n",
      "tail: Some { value = 3\n",
      "       next = None }\n",
      "peek: Some(1)\n",
      "current head: \n",
      "{ value = 1\n",
      "  next = Some { value = 2\n",
      "                next = Some { value = 3\n",
      "                              next = None } } }\n",
      "length after deque twice: 1\n"
     ]
    }
   ],
   "source": [
    "type Node<'T> = {\n",
    "    value : 'T\n",
    "    mutable next : Node<'T> option\n",
    "}\n",
    "\n",
    "// feed values into tail\n",
    "// pull values from head\n",
    "// First in, First out\n",
    "type Queue<'T> (element : 'T) =\n",
    "    let mutable _length = 1\n",
    "    let mutable _head : Node<'T> option = Some {value = element; next = None}\n",
    "    let mutable _tail : Node<'T> option = _head\n",
    "\n",
    "    member this.head with get () = _head and set (v) = _head <- v\n",
    "    member this.tail with get () = _tail and set (v) = _tail <- v\n",
    "    member this.length with get () = _length\n",
    "\n",
    "    member this.enqueue (v : 'T) =\n",
    "        _length <- _length + 1\n",
    "        match _tail with\n",
    "        | Some tail ->\n",
    "            let q = { value = v; next = None }\n",
    "            _tail.Value.next <- Some q\n",
    "            _tail <- Some q\n",
    "        | None ->\n",
    "            _tail <- Some { value = v; next = None }\n",
    "\n",
    "    member this.deque () =\n",
    "        match _head with\n",
    "        | Some head ->\n",
    "            _head <- head.next\n",
    "            _length <- _length - 1\n",
    "            Some head.value\n",
    "        | None -> None\n",
    "\n",
    "    member this.peek () = \n",
    "        match _head with\n",
    "        | Some head -> Some head.value\n",
    "        | None -> None\n",
    "\n",
    "printfn \"testing queue\"\n",
    "let test_queue = Queue 1 // constructor\n",
    "test_queue.enqueue(2) \n",
    "test_queue.enqueue(3)\n",
    "printfn \"tail: %A\" test_queue.tail // view the tail\n",
    "let test_peek1 = test_queue.peek () // peek value in head\n",
    "printfn $\"peek: {test_peek1}\"\n",
    "printfn \"current head: \\n%A\" (Option.get test_queue.head) // view the head structure\n",
    "let pop1 = test_queue.deque ()  // grab value\n",
    "let pop2 = test_queue.deque () // grab another value\n",
    "printfn $\"length after deque twice: {test_queue.length}\" // check length"
   ]
  }
 ],
 "metadata": {
  "kernelspec": {
   "display_name": ".NET (C#)",
   "language": "C#",
   "name": ".net-csharp"
  },
  "language_info": {
   "name": "polyglot-notebook"
  },
  "polyglot_notebook": {
   "kernelInfo": {
    "defaultKernelName": "csharp",
    "items": [
     {
      "aliases": [],
      "name": "csharp"
     },
     {
      "aliases": [],
      "languageName": "fsharp",
      "name": "fsharp"
     }
    ]
   }
  }
 },
 "nbformat": 4,
 "nbformat_minor": 2
}
