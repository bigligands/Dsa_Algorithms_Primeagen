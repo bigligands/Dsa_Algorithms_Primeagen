{
 "cells": [
  {
   "attachments": {},
   "cell_type": "markdown",
   "metadata": {},
   "source": [
    "# Sorting\n",
    "\n",
    "### Bubble Sort\n",
    "\n",
    "```fsharp\n",
    "[| X(i) <= X(i+1) |]\n",
    "[| 1;3;7;4;2 |]\n",
    "// ^>^? swap positions for each position\n",
    "[| 1;3;7;4;2 |] // N\n",
    "//     ^>^ ? yes\n",
    "// etc...\n",
    "[| 1;3;4;2;|7 |] // N - 1\n",
    "// after 1 iteration, largest value is at the end. \n",
    "// Next iteration doesn't need to go all the way to the end\n",
    "[| 1;3;2;|4;7 |] // N - 2\n",
    "[| 1;2;|3;4;7 |] // N -3\n",
    "[| 1;|2;3;4;7 |] // N - (N -1)\n",
    "// sorted\n",
    "```\n",
    "\n",
    "Each iteration results in `N - i` remaining positions to iterate over.\n",
    "> `(n(n + 1))/2 -> O(N^2 + N) -> O(N^2)`"
   ]
  },
  {
   "cell_type": "code",
   "execution_count": 30,
   "metadata": {
    "dotnet_interactive": {
     "language": "fsharp"
    },
    "polyglot_notebook": {
     "kernelName": "fsharp"
    }
   },
   "outputs": [
    {
     "data": {
      "text/html": [
       "<div class=\"dni-plaintext\"><pre>[ 1, 1, 1, 2, 2, 3, 3, 4, 6, 7, 12, 88 ]</pre></div><style>\r\n",
       ".dni-code-hint {\r\n",
       "    font-style: italic;\r\n",
       "    overflow: hidden;\r\n",
       "    white-space: nowrap;\r\n",
       "}\r\n",
       ".dni-treeview {\r\n",
       "    white-space: nowrap;\r\n",
       "}\r\n",
       ".dni-treeview td {\r\n",
       "    vertical-align: top;\r\n",
       "    text-align: start;\r\n",
       "}\r\n",
       "details.dni-treeview {\r\n",
       "    padding-left: 1em;\r\n",
       "}\r\n",
       "table td {\r\n",
       "    text-align: start;\r\n",
       "}\r\n",
       "table tr { \r\n",
       "    vertical-align: top; \r\n",
       "    margin: 0em 0px;\r\n",
       "}\r\n",
       "table tr td pre \r\n",
       "{ \r\n",
       "    vertical-align: top !important; \r\n",
       "    margin: 0em 0px !important;\r\n",
       "} \r\n",
       "table th {\r\n",
       "    text-align: start;\r\n",
       "}\r\n",
       "</style>"
      ]
     },
     "metadata": {},
     "output_type": "display_data"
    }
   ],
   "source": [
    "// Bubble sort (sort in place algorithm)\n",
    "let bubble_sort (arr : int array) =\n",
    "    let len = arr.Length - 1\n",
    "    let rec walk_array (old_arr : int array) (i : int) (stop : int) =\n",
    "        if i < stop then\n",
    "            match arr[i] with\n",
    "            | x when x <= old_arr[i + 1] ->\n",
    "                walk_array old_arr (i + 1) stop\n",
    "            | _ ->\n",
    "                let high = old_arr[i] \n",
    "                arr[i] <- old_arr[i + 1]\n",
    "                arr[i + 1] <- high\n",
    "                walk_array arr (i + 1) stop\n",
    "        else ()\n",
    "    for stop in len .. -1 .. 0 do\n",
    "        walk_array arr 0 stop\n",
    "\n",
    "let unsorted_arr = [|6; 2; 4; 3; 7; 1; 3; 88; 12; 1; 1; 2; |]\n",
    "bubble_sort unsorted_arr\n",
    "unsorted_arr // now sorted!"
   ]
  },
  {
   "cell_type": "code",
   "execution_count": 29,
   "metadata": {
    "dotnet_interactive": {
     "language": "fsharp"
    },
    "polyglot_notebook": {
     "kernelName": "fsharp"
    }
   },
   "outputs": [
    {
     "data": {
      "text/html": [
       "<div class=\"dni-plaintext\"><pre>[ 1, 1, 1, 2, 2, 3, 3, 4, 6, 7, 12, 88 ]</pre></div><style>\r\n",
       ".dni-code-hint {\r\n",
       "    font-style: italic;\r\n",
       "    overflow: hidden;\r\n",
       "    white-space: nowrap;\r\n",
       "}\r\n",
       ".dni-treeview {\r\n",
       "    white-space: nowrap;\r\n",
       "}\r\n",
       ".dni-treeview td {\r\n",
       "    vertical-align: top;\r\n",
       "    text-align: start;\r\n",
       "}\r\n",
       "details.dni-treeview {\r\n",
       "    padding-left: 1em;\r\n",
       "}\r\n",
       "table td {\r\n",
       "    text-align: start;\r\n",
       "}\r\n",
       "table tr { \r\n",
       "    vertical-align: top; \r\n",
       "    margin: 0em 0px;\r\n",
       "}\r\n",
       "table tr td pre \r\n",
       "{ \r\n",
       "    vertical-align: top !important; \r\n",
       "    margin: 0em 0px !important;\r\n",
       "} \r\n",
       "table th {\r\n",
       "    text-align: start;\r\n",
       "}\r\n",
       "</style>"
      ]
     },
     "metadata": {},
     "output_type": "display_data"
    }
   ],
   "source": [
    "// Primeagen's implementation of bubble sort\n",
    "let bubble_sort (arr : int array) =\n",
    "    let len = arr.Length - 1\n",
    "    for i in 0 .. len do\n",
    "        // never thought to use `i` in the next nested loop\n",
    "        for j in 0 .. (len - 1 - i) do // -1 since indexing up 1 with arr[j + 1]\n",
    "            if (arr[j] > arr[j + 1]) then\n",
    "                let high = arr[j]\n",
    "                arr[j] <- arr[j + 1]\n",
    "                arr[j + 1] <- high\n",
    "\n",
    "let unsorted_arr = [|6; 2; 4; 3; 7; 1; 3; 88; 12; 1; 1; 2; |]\n",
    "bubble_sort unsorted_arr\n",
    "unsorted_arr // now sorted!"
   ]
  }
 ],
 "metadata": {
  "kernelspec": {
   "display_name": ".NET (C#)",
   "language": "C#",
   "name": ".net-csharp"
  },
  "language_info": {
   "name": "polyglot-notebook"
  },
  "polyglot_notebook": {
   "kernelInfo": {
    "defaultKernelName": "csharp",
    "items": [
     {
      "aliases": [],
      "name": "csharp"
     },
     {
      "aliases": [],
      "languageName": "fsharp",
      "name": "fsharp"
     }
    ]
   }
  }
 },
 "nbformat": 4,
 "nbformat_minor": 2
}
