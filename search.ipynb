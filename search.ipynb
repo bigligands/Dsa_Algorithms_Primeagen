{
 "cells": [
  {
   "attachments": {},
   "cell_type": "markdown",
   "metadata": {},
   "source": [
    "# Search\n",
    "\n",
    "### Linear Search\n",
    "\n",
    "Its good practice to be able to visualize problems.\n",
    "Using boxes and arrows to visualize it, then program it.\n",
    "It is a core competency.\n",
    "\n",
    "**First Search**\n",
    "Linear Search on an array.\n",
    "\n",
    "Whiteboard:\n",
    "\n",
    "![Linear Search](images/search_linear.png)\n",
    "\n",
    "> O(N)"
   ]
  },
  {
   "cell_type": "code",
   "execution_count": 6,
   "metadata": {
    "dotnet_interactive": {
     "language": "fsharp"
    },
    "polyglot_notebook": {
     "kernelName": "fsharp"
    }
   },
   "outputs": [
    {
     "name": "stdout",
     "output_type": "stream",
     "text": [
      "Contains 6: True; Contains 7: False\n"
     ]
    }
   ],
   "source": [
    "// Implementing linear search\n",
    "// Simplest algorithm\n",
    "let rec linear_search (haystack : int array) (needle : int) =\n",
    "    match haystack.Length with\n",
    "    | 0 -> false\n",
    "    | 1 -> \n",
    "        haystack[0] = needle\n",
    "    | _ ->\n",
    "        if haystack[0] = needle then\n",
    "            true\n",
    "        else\n",
    "            linear_search haystack[1..] needle\n",
    "\n",
    "let test_array = [|1;2;3;4;5;6|]\n",
    "let pass = linear_search test_array 6\n",
    "let fail = linear_search test_array 7\n",
    "printfn $\"Contains 6: {pass}; Contains 7: {fail}\""
   ]
  },
  {
   "attachments": {},
   "cell_type": "markdown",
   "metadata": {},
   "source": [
    "### Binary Search\n",
    "\n",
    "If the collection is *ordered*, can use a **Binary Search**.\n",
    "A binary search jumps by half at each iteration instead of walking linearly over the collection.\n",
    "> If an input havles at each step, likely O(Log N) or O(N log N)\n",
    "\n",
    "Common off-by-one situation.\n",
    "\n",
    "*Pseudocode*\n",
    "```fsharp\n",
    "let arr = [|1;2;3;4;5;6|]\n",
    "let mid = [| low + (high - low) / 2|]\n",
    "let val = arr[mid]\n",
    "if val = n then\n",
    "    done\n",
    "else if val > mid then\n",
    "    low <- mid + 1\n",
    "else\n",
    "    high = mid\n",
    "while (low < high)\n",
    "    search\n",
    "```"
   ]
  },
  {
   "cell_type": "code",
   "execution_count": 10,
   "metadata": {
    "dotnet_interactive": {
     "language": "fsharp"
    },
    "polyglot_notebook": {
     "kernelName": "fsharp"
    }
   },
   "outputs": [
    {
     "name": "stdout",
     "output_type": "stream",
     "text": [
      "0: False\n",
      "1: True\n",
      "2: True\n",
      "3: True\n",
      "4: True\n",
      "5: True\n",
      "6: True\n",
      "7: True\n",
      "8: True\n",
      "9: True\n",
      "10: True\n",
      "11: False\n",
      "12: False\n",
      "13: False\n",
      "14: False\n",
      "15: False\n"
     ]
    }
   ],
   "source": [
    "// Binary search\n",
    "let bs_list (haystack : int array) (needle : int) : bool =\n",
    "    let rec bs (arr : int array) (v : int) (low: int) (high:int) =\n",
    "        // low has passed high without finding the value\n",
    "        if low > high then \n",
    "            false\n",
    "        else\n",
    "            let mid = high + low / 2\n",
    "            match haystack[mid] with\n",
    "            | x when x = v -> true // Found the value\n",
    "            | x when x < needle -> // Midpoint is less than needle value -> move low to (mid + 1)\n",
    "                bs arr v (mid + 1) high\n",
    "            | _ -> bs arr v low (mid - 1) // Midpoint is greater than needle value -> move high to (mid - 1)\n",
    "            // low always moving up and high always moving down\n",
    "    bs haystack needle 0 (haystack.Length - 1)\n",
    "\n",
    "let test = [|1;2;3;4;5;6;7;8;9;10|]\n",
    "for i in 0..15 do\n",
    "    printfn $\"{i}: {bs_list test i}\""
   ]
  },
  {
   "attachments": {},
   "cell_type": "markdown",
   "metadata": {},
   "source": [
    "### The 2 Crystal Ball problem\n",
    "\n",
    "Index represents floor of a building, and bool represents whether the ball will break.\n",
    "```fsharp\n",
    "[| false; false; false; false; false; true; true; true; true; |]\n",
    "                                      ^^^^\n",
    "```\n",
    "Whats the most efficient way to find the first floor that dropping a crystal ball from would break it given 2 crystal balls?\n",
    "\n",
    "All of the search algorithms so far (Binary and Linear) would result in a O(N) runtime for solving the 2 crystal ball problem.\n",
    "- Linear is obviously `O(N)`\n",
    "- Binary worst case is `O(1/2 N) -> O(N)`\n",
    "\n",
    "```fsharp\n",
    "[| false; false; false; true; true; true; true; true; true;|] // N = 9\n",
    "Jump by sqrt(N)  ^^^^^      ->      ^^^^\n",
    "                        ^^^^     Walk up sqrt(N) from last good point (+ 1)\n",
    "```\n",
    "> `O(2sqrt(N)) -> O(sqrt(N))`"
   ]
  },
  {
   "cell_type": "code",
   "execution_count": 24,
   "metadata": {
    "dotnet_interactive": {
     "language": "fsharp"
    },
    "polyglot_notebook": {
     "kernelName": "fsharp"
    }
   },
   "outputs": [
    {
     "name": "stdout",
     "output_type": "stream",
     "text": [
      "Ball breaks at floor: 10\n"
     ]
    }
   ],
   "source": [
    "// Crystal ball problem\n",
    "let find_floor (building : bool array) : int =\n",
    "    let n = Math.Sqrt(building.Length) |> int\n",
    "    // When first ball breaks, go back to known good floor and walk linearly\n",
    "    let rec walk_floors (b : bool array) (low : int) =\n",
    "        match b[low] with\n",
    "        | true ->\n",
    "            low // First break\n",
    "        | false ->\n",
    "            walk_floors b (low + 1) // Walk to next floor\n",
    "    // Jump by sqrt(N) floors\n",
    "    let rec jump_floors (b : bool array) (high : int) =\n",
    "        if high > b.Length then // Jumped passed the height of the building\n",
    "            walk_floors b (high - n) // Walk the last sqrt(N) floors\n",
    "        else\n",
    "            match b[high] with\n",
    "            | true ->\n",
    "                walk_floors b (high - n) // Ball broke, walk the rest\n",
    "            | false ->\n",
    "                jump_floors b (high + n) // Ball didn't break, keep jumping by sqrt(N)\n",
    "    jump_floors building n\n",
    "\n",
    "let building = [| false; false; false; false; false; false; false; false; false; true; true; |] // Should jump past length and walk last segment\n",
    "let floor_ball_breaks = find_floor building\n",
    "printfn $\"Ball breaks at floor: {floor_ball_breaks + 1}\""
   ]
  }
 ],
 "metadata": {
  "kernelspec": {
   "display_name": ".NET (C#)",
   "language": "C#",
   "name": ".net-csharp"
  },
  "language_info": {
   "name": "polyglot-notebook"
  },
  "polyglot_notebook": {
   "kernelInfo": {
    "defaultKernelName": "csharp",
    "items": [
     {
      "aliases": [],
      "name": "csharp"
     },
     {
      "aliases": [],
      "languageName": "fsharp",
      "name": "fsharp"
     }
    ]
   }
  }
 },
 "nbformat": 4,
 "nbformat_minor": 2
}
