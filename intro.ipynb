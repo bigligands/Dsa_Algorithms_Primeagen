{
 "cells": [
  {
   "attachments": {},
   "cell_type": "markdown",
   "metadata": {},
   "source": [
    "# Data Structures and Algorithms\n",
    "Some algorithms are useful for every professional.\n",
    "\n",
    "`const a = [];`\n",
    "\n",
    "Is this an array? No!\n",
    "\n",
    "Arrays are the simplest Data Structure"
   ]
  },
  {
   "cell_type": "code",
   "execution_count": 2,
   "metadata": {
    "dotnet_interactive": {
     "language": "fsharp"
    },
    "polyglot_notebook": {
     "kernelName": "fsharp"
    }
   },
   "outputs": [
    {
     "data": {
      "text/html": [
       "<span><a href=\"https://docs.microsoft.com/dotnet/api/system.object[]?view=net-7.0\">System.Object[]</a></span>"
      ]
     },
     "metadata": {},
     "output_type": "display_data"
    }
   ],
   "source": [
    "let actual_array = [||]\n",
    "actual_array.GetType()"
   ]
  },
  {
   "attachments": {},
   "cell_type": "markdown",
   "metadata": {},
   "source": [
    "### Big O Notation\n",
    "\n",
    "A way to categorize your algorithms time or memory requirements based on input.\n",
    "It is not an exact measurement (no CPU cycles).\n",
    "\n",
    "Used to help make decisions on which data structure / algorithm to use based on performance.\n",
    "As your input grows, how fast does computation/memory grow?"
   ]
  },
  {
   "cell_type": "code",
   "execution_count": 12,
   "metadata": {
    "dotnet_interactive": {
     "language": "fsharp"
    },
    "polyglot_notebook": {
     "kernelName": "fsharp"
    }
   },
   "outputs": [],
   "source": [
    "// O(N)\n",
    "let sum_char_nodes (n : string) : int =\n",
    "    let mutable sum = 0\n",
    "    for i in 0 .. n.Length - 1 do\n",
    "        sum <- sum + (int n[i])\n",
    "    sum"
   ]
  },
  {
   "cell_type": "code",
   "execution_count": 11,
   "metadata": {
    "dotnet_interactive": {
     "language": "fsharp"
    },
    "polyglot_notebook": {
     "kernelName": "fsharp"
    }
   },
   "outputs": [],
   "source": [
    "// Also O(N)\n",
    "let sum_char_codes (n : string) : int =\n",
    "    let mutable sum = 0\n",
    "    for i in 0 .. n.Length - 1 do\n",
    "        sum <- sum + (int n[i])\n",
    "    for j in 0 .. n.Length - 1 do\n",
    "        sum <- sum + (int n[j])\n",
    "    sum"
   ]
  },
  {
   "attachments": {},
   "cell_type": "markdown",
   "metadata": {},
   "source": [
    "Important Concepts:\n",
    "1. Growth is with respect to the input\n",
    "2. Constants are dropped!\n",
    "\n",
    "`O(2N) -> O(N)`. Big O describes the upper bound of the algorithm, and at the upper bounds the constant becomes irrelevant.\n",
    "\n",
    "E.G.\n",
    "```\n",
    "N = 1, O(10N) = 10 & O(N^2) = 1\n",
    "vs\n",
    "N = 1000, O(10N) = 10,000 & O(N^2) = 100x Larger\n",
    "```"
   ]
  },
  {
   "cell_type": "code",
   "execution_count": 17,
   "metadata": {
    "dotnet_interactive": {
     "language": "fsharp"
    },
    "polyglot_notebook": {
     "kernelName": "fsharp"
    }
   },
   "outputs": [
    {
     "name": "stdout",
     "output_type": "stream",
     "text": [
      "568 vs 568\n"
     ]
    }
   ],
   "source": [
    "// O(N) as well\n",
    "let sum_char_codes (n : string) : int =\n",
    "    let rec rec_sum chars acc =\n",
    "        match chars |> List.ofSeq with\n",
    "        | head :: tail ->\n",
    "            if int head = 69 then\n",
    "                acc\n",
    "            else\n",
    "                rec_sum tail (acc + int head)\n",
    "        | _ -> acc\n",
    "    rec_sum (n |> List.ofSeq) 0\n",
    "\n",
    "let x = sum_char_codes \"wowzaEzzzzzzz\"\n",
    "let y = sum_char_codes \"wowza\"\n",
    "printfn $\"{x} vs {y}\""
   ]
  },
  {
   "attachments": {},
   "cell_type": "markdown",
   "metadata": {},
   "source": [
    "BigO often considers *worst case*.\n",
    "Without an 'E' in the string, `sum_char_codes` will process the entire input.\n",
    "\n",
    "Important concepts\n",
    "1. Growth is with respect to input\n",
    "2. Constants are dropped\n",
    "3. Worse case is usually the way we measure"
   ]
  },
  {
   "cell_type": "code",
   "execution_count": 18,
   "metadata": {
    "dotnet_interactive": {
     "language": "fsharp"
    },
    "polyglot_notebook": {
     "kernelName": "fsharp"
    }
   },
   "outputs": [],
   "source": [
    "// O(N^3)\n",
    "let sum_char_codes (n : string) : int =\n",
    "    let mutable sum = 0\n",
    "    for i in 0..n.Length - 1 do // N\n",
    "        for j in 0..n.Length - 1 do // N^2\n",
    "            for k in 0..n.Length - 1 do // N^3\n",
    "                sum <- sum + (int n[k])\n",
    "    sum"
   ]
  },
  {
   "attachments": {},
   "cell_type": "markdown",
   "metadata": {},
   "source": [
    "Other examples:\n",
    "- O(n log n) -> Quicksort\n",
    "- O(log n) -> Binary search trees\n",
    "- O(sqrt(n)) -> Unique example"
   ]
  }
 ],
 "metadata": {
  "kernelspec": {
   "display_name": ".NET (F#)",
   "language": "F#",
   "name": ".net-fsharp"
  },
  "language_info": {
   "name": "polyglot-notebook"
  },
  "polyglot_notebook": {
   "kernelInfo": {
    "defaultKernelName": "fsharp",
    "items": [
     {
      "aliases": [],
      "languageName": "fsharp",
      "name": "fsharp"
     }
    ]
   }
  }
 },
 "nbformat": 4,
 "nbformat_minor": 2
}
