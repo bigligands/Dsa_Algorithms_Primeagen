{
 "cells": [
  {
   "attachments": {},
   "cell_type": "markdown",
   "metadata": {},
   "source": [
    "# Arrays\n",
    "\n",
    "If `const a = []` isn't an array, then what is it?\n",
    "\n",
    "### What is an array?\n",
    "\n",
    "An array is a block of contiguous memory space that contains a certain amount of bytes.\n",
    "Indexing into an array skips `n * size of T` bytes of memory and takes `size of T` bytes out.\n",
    "\n",
    "e.g.\n",
    "``` \n",
    "let x : int32[] = [|1;2;3|]\n",
    "```\n",
    "> `x[1]` -> Skips the first 4 bytes, then takes 4 bytes to return the int32 value at \"index 1\"\n",
    "\n",
    "```fsharp\n",
    "// array with an 8bit type:\n",
    "[00000000 00000000 00000010 00000000]\n",
    " ^^^^^^^^ ^^^^^^^^ ^^^^^^^^ ^^^^^^^^\n",
    " a[0]     a[1]     a[2]     a[3]\n",
    "```\n",
    "\n",
    "BigO for reading / writing arrays is *constant*. \n",
    "The array doesn't need to be iterated over as the memory position is calculated and directly accessed.\n",
    "> Constant time: A constant amount of processing no matter what the input is. a[1] the same as a[69]."
   ]
  },
  {
   "cell_type": "code",
   "execution_count": 6,
   "metadata": {
    "dotnet_interactive": {
     "language": "fsharp"
    },
    "polyglot_notebook": {
     "kernelName": "fsharp"
    }
   },
   "outputs": [
    {
     "name": "stdout",
     "output_type": "stream",
     "text": [
      "System.Int32[]\n"
     ]
    },
    {
     "data": {
      "text/html": [
       "<div class=\"dni-plaintext\"><pre>11</pre></div><style>\r\n",
       ".dni-code-hint {\r\n",
       "    font-style: italic;\r\n",
       "    overflow: hidden;\r\n",
       "    white-space: nowrap;\r\n",
       "}\r\n",
       ".dni-treeview {\r\n",
       "    white-space: nowrap;\r\n",
       "}\r\n",
       ".dni-treeview td {\r\n",
       "    vertical-align: top;\r\n",
       "    text-align: start;\r\n",
       "}\r\n",
       "details.dni-treeview {\r\n",
       "    padding-left: 1em;\r\n",
       "}\r\n",
       "table td {\r\n",
       "    text-align: start;\r\n",
       "}\r\n",
       "table tr { \r\n",
       "    vertical-align: top; \r\n",
       "    margin: 0em 0px;\r\n",
       "}\r\n",
       "table tr td pre \r\n",
       "{ \r\n",
       "    vertical-align: top !important; \r\n",
       "    margin: 0em 0px !important;\r\n",
       "} \r\n",
       "table th {\r\n",
       "    text-align: start;\r\n",
       "}\r\n",
       "</style>"
      ]
     },
     "metadata": {},
     "output_type": "display_data"
    }
   ],
   "source": [
    "let arr = [|0..10|]\n",
    "printfn $\"{arr.GetType()}\"\n",
    "arr |> Array.length"
   ]
  }
 ],
 "metadata": {
  "kernelspec": {
   "display_name": ".NET (F#)",
   "language": "F#",
   "name": ".net-fsharp"
  },
  "language_info": {
   "name": "polyglot-notebook"
  },
  "polyglot_notebook": {
   "kernelInfo": {
    "defaultKernelName": "fsharp",
    "items": [
     {
      "aliases": [],
      "languageName": "fsharp",
      "name": "fsharp"
     }
    ]
   }
  }
 },
 "nbformat": 4,
 "nbformat_minor": 2
}
