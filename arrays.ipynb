{
 "cells": [
  {
   "attachments": {},
   "cell_type": "markdown",
   "metadata": {},
   "source": [
    "# Arrays\n",
    "\n",
    "If `const a = []` isn't an array, then what is it?\n",
    "\n",
    "### What is an array?\n",
    "\n",
    "An array is a block of contiguous memory space that contains a certain amount of bytes.\n",
    "Indexing into an array skips `n * size of T` bytes of memory and takes `size of T` bytes out.\n",
    "\n",
    "e.g.\n",
    "``` \n",
    "let x : int32[] = [|1;2;3|]\n",
    "```\n",
    "> `x[1]` -> Skips the first 4 bytes, then takes 4 bytes to return the int32 value at \"index 1\"\n",
    "\n",
    "```fsharp\n",
    "// array with an 8bit type:\n",
    "[00000000 00000000 00000010 00000000]\n",
    " ^^^^^^^^ ^^^^^^^^ ^^^^^^^^ ^^^^^^^^\n",
    " a[0]     a[1]     a[2]     a[3]\n",
    "```\n",
    "\n",
    "BigO for reading / writing arrays is *constant*. \n",
    "The array doesn't need to be iterated over as the memory position is calculated and directly accessed.\n",
    "> Constant time: A constant amount of processing no matter what the input is. a[1] the same as a[69]."
   ]
  }
 ],
 "metadata": {
  "kernelspec": {
   "display_name": ".NET (F#)",
   "language": "F#",
   "name": ".net-fsharp"
  },
  "language_info": {
   "name": "polyglot-notebook"
  },
  "polyglot_notebook": {
   "kernelInfo": {
    "defaultKernelName": "fsharp",
    "items": [
     {
      "aliases": [],
      "languageName": "fsharp",
      "name": "fsharp"
     }
    ]
   }
  }
 },
 "nbformat": 4,
 "nbformat_minor": 2
}
