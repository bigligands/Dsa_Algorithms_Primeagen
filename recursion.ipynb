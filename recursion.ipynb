{
 "cells": [
  {
   "attachments": {},
   "cell_type": "markdown",
   "metadata": {},
   "source": [
    "# Recursion\n",
    "\n",
    "A function that calls itself until the problem is solved. Will run until a base case is reached."
   ]
  },
  {
   "cell_type": "code",
   "execution_count": 1,
   "metadata": {
    "dotnet_interactive": {
     "language": "csharp"
    },
    "polyglot_notebook": {
     "kernelName": "csharp"
    }
   },
   "outputs": [
    {
     "name": "stdout",
     "output_type": "stream",
     "text": [
      "55\r\n"
     ]
    }
   ],
   "source": [
    "var sum_of_10 = Foo(10);\n",
    "Console.WriteLine(sum_of_10);\n",
    "\n",
    "int Foo(int n) {\n",
    "    if (n == 1) return 1;\n",
    "    return n + Foo(n - 1);\n",
    "}"
   ]
  },
  {
   "attachments": {},
   "cell_type": "markdown",
   "metadata": {},
   "source": [
    "### Return Address | Return Value | Arguments ###\n",
    "\n",
    "Recursion burrows down until it finds the base case, then traverses back up filling in the missing return values.\n",
    "\n",
    "```\n",
    "Foo(5) | 5 + ? | 5    |\n",
    "Foo(4) | 4 + ? | 4    |\n",
    "Foo(3) | 3 + ? | 3    |\n",
    "Foo(2) | 2 + ? | 2    |\n",
    "Foo(1) |   1   | 1   \\|/\n",
    "\n",
    "Foo(5) |5 +(10)| 5   /|\\\n",
    "Foo(4) | 4 +(6)| 4    |\n",
    "Foo(3) | 3 +(3)| 3    |\n",
    "Foo(2) | 2 +(1)| 2    |\n",
    "Foo(1) |   1 ^ | 1    |\n",
    "```\n",
    "\n",
    "Recursion:\n",
    "- Pre : `n + __`; `Base Case`;\n",
    "- Recurse : `Foo(n)`\n",
    "- Post : `return`; BUT can do more in *Post* step than just return.\n",
    "\n",
    "### Maze Solver\n",
    "\n",
    "```fsharp\n",
    "[|\n",
    "'####E###'\n",
    "'#      #'\n",
    "'#S######'\n",
    "|]\n",
    "```\n",
    "\n",
    "Base case would include running off the map, going somewhere you've been, going backwards at start, etc.\n",
    "\n",
    "Maze Base Cases:\n",
    "1. It's a wall.\n",
    "2. Off the map.\n",
    "3. It's the end.\n",
    "4. If we've been here before."
   ]
  },
  {
   "cell_type": "code",
   "execution_count": 53,
   "metadata": {
    "dotnet_interactive": {
     "language": "csharp"
    },
    "polyglot_notebook": {
     "kernelName": "csharp"
    }
   },
   "outputs": [
    {
     "name": "stdout",
     "output_type": "stream",
     "text": [
      "Path Taken:\n",
      "█*██████\n",
      "█*     █\n",
      "█* █████\n",
      "█******█\n",
      "█ ████*█\n",
      "█ █****█\n",
      "█ █*████\n",
      "███*████\n"
     ]
    }
   ],
   "source": [
    "char wall = '█';\n",
    "readonly var maze = new List<string> {\n",
    "    \"█ ██████\",\n",
    "    \"█      █\",\n",
    "    \"█  █████\",\n",
    "    \"█      █\",\n",
    "    \"█ ████ █\",\n",
    "    \"█ █    █\",\n",
    "    \"█ █ ████\",\n",
    "    \"███ ████\",\n",
    "};\n",
    "var start = new Point{X = 0, Y = 1};\n",
    "var end = new Point {X = 7, Y = 3};\n",
    "var solver = new Recursion();\n",
    "var result = solver.SolveMaze(maze, wall, start, end);\n",
    "\n",
    "public struct Point {\n",
    "    public int X {get;set;}\n",
    "    public int Y {get;set;}\n",
    "}\n",
    "\n",
    "class Recursion {\n",
    "    private int[][] _directions =  new int[4][] { \n",
    "        new int[] {-1, 0},\n",
    "        new int[] {1, 0},\n",
    "        new int[] {0, -1},\n",
    "        new int[] {0, 1},\n",
    "    };\n",
    "\n",
    "\n",
    "    private bool Walk(List<string> maze, char wall, Point current, Point end, bool[][] seen, ref List<Point> path) {\n",
    "        // 1. Off the map\n",
    "        if (current.X < 0 || current.X >= maze[0].Length ||\n",
    "        current.Y < 0 || current.Y >= maze.Count) {\n",
    "            return false;\n",
    "        }\n",
    "\n",
    "        // 2. on a wall\n",
    "        if (maze[current.X][current.Y] == wall) {\n",
    "            return false;\n",
    "        }\n",
    "\n",
    "        // 3. Reached the end\n",
    "        if (current.X == end.X && current.Y == end.Y) {\n",
    "            path.Add(end);\n",
    "            return true;\n",
    "        }\n",
    "\n",
    "        // 4. Been here before \n",
    "        if (seen[current.X][current.Y]) {\n",
    "            return false;\n",
    "        }\n",
    "        \n",
    "        // 3 recurse steps\n",
    "        // pre\n",
    "        seen[current.X][current.Y] = true;\n",
    "        path.Add(current);\n",
    "        // recurse\n",
    "        for (int i = 0; i < 4; ++i){\n",
    "            var x = _directions[i][0];\n",
    "            var y = _directions[i][1];\n",
    "            if (Walk(maze, wall, new Point {X = current.X + x, Y = current.Y + y}, end, seen, ref path)) {\n",
    "                return true;\n",
    "            };\n",
    "        }\n",
    "        // post (Walking didn't return true)\n",
    "        path.Remove(current);\n",
    "        return false;\n",
    "    }\n",
    "\n",
    "    public List<Point> SolveMaze(List<string> maze, char wall, Point start, Point end) {\n",
    "        bool[][] seen = new bool[maze[0].Length][];\n",
    "        List<Point> path = new();\n",
    "\n",
    "        for (int i = 0; i < maze.Count; ++i) {\n",
    "            seen.SetValue(Enumerable.Repeat(false, maze[i].Length).ToArray(), i);\n",
    "        }\n",
    "        \n",
    "        Walk(maze, wall, start, end, seen, ref path);\n",
    "        return path;\n",
    "    }\n",
    "}\n",
    "\n",
    "var flat_maze = string.Concat(maze);\n",
    "PrintPath(flat_maze, result);\n",
    "\n",
    "void PrintPath(string maze, List<Point> result){\n",
    "    // for square mazes\n",
    "    Console.WriteLine(\"Path Taken:\");\n",
    "    var pathed_maze_builder = new StringBuilder(maze);\n",
    "    int size = (int)Math.Sqrt(maze.Length);\n",
    "\n",
    "    foreach (var p in result){\n",
    "        pathed_maze_builder.Remove(size * p.X + p.Y, 1).Insert(size * p.X + p.Y, \"*\");\n",
    "    }\n",
    "\n",
    "    var pathed_maze_flat = pathed_maze_builder.ToString();\n",
    "    ReadOnlySpan<char> m = pathed_maze_flat.AsSpan();\n",
    "    for (int i = 0; i < size; ++ i) {\n",
    "        Console.WriteLine(m.Slice(i * size, size).ToString());\n",
    "    }\n",
    "}"
   ]
  },
  {
   "attachments": {},
   "cell_type": "markdown",
   "metadata": {},
   "source": [
    "Notes\n",
    "1. Use recursion when there's no distinct end or there's a *branching factor*.\n",
    "2. Put as much as possible into the Base Case.\n"
   ]
  }
 ],
 "metadata": {
  "kernelspec": {
   "display_name": ".NET (F#)",
   "language": "F#",
   "name": ".net-fsharp"
  },
  "language_info": {
   "name": "polyglot-notebook"
  },
  "polyglot_notebook": {
   "kernelInfo": {
    "defaultKernelName": "fsharp",
    "items": [
     {
      "aliases": [],
      "languageName": "fsharp",
      "name": "fsharp"
     }
    ]
   }
  }
 },
 "nbformat": 4,
 "nbformat_minor": 2
}
