{
 "cells": [
  {
   "attachments": {},
   "cell_type": "markdown",
   "metadata": {},
   "source": [
    "# Quicksort\n",
    "\n",
    "A divide and conquer recursive sorting algorithm.\n",
    "\n",
    "```csharp\n",
    "[          P0       *]\n",
    "0          ^         N\n",
    "// First pointer goes to middle, sorting based on comparing each position against itself\n",
    "[    |   P0   |    ]\n",
    "    P1        P2\n",
    "// repeat with 2 more pointers that repeat on the 2 sections\n",
    "[    |   P0   |    ]\n",
    "  | P1  |   | P2 |\n",
    " P3    P4  P5    P6\n",
    " // etc.. until the base case where each segment is either 0 or 1 element long\n",
    "```\n",
    "\n",
    "Speed and efficiency depends on the pivot value that gets chosen.\n",
    "Worst case is that the smallest value gets chosen as the pivot value.\n",
    "\n",
    "The algorithm is typically O(NlogN).\n",
    "\n",
    "But worst case is O(N^2).\n",
    "\n",
    "```csharp\n",
    "  [ 8, 7, 6, 4, |5| ]\n",
    "^            ^ First value less than pivot of 5\n",
    "idx at -1\n",
    "  [ 4, 8, 7, 6, |5| ]\n",
    "    ^            ^ Move pivot so that all items to the left are < pivot, all items to the right are > pivot.\n",
    "    idx\n",
    "  [ 4, |5|, 8, 7, 6 ]\n",
    "    ^\n",
    "```"
   ]
  },
  {
   "cell_type": "code",
   "execution_count": 5,
   "metadata": {
    "dotnet_interactive": {
     "language": "csharp"
    },
    "polyglot_notebook": {
     "kernelName": "csharp"
    }
   },
   "outputs": [
    {
     "name": "stdout",
     "output_type": "stream",
     "text": [
      "(0, 7)\n",
      "(0, 3)\n",
      "(0, 0)\n",
      "(2, 3)\n",
      "(2, 2)\n",
      "(4, 3)\n",
      "(5, 7)\n",
      "(5, 6)\n",
      "(5, 5)\n",
      "(7, 6)\n",
      "(8, 7)\n",
      "3\n",
      "4\n",
      "7\n",
      "9\n",
      "42\n",
      "69\n",
      "69\n",
      "420\n"
     ]
    }
   ],
   "source": [
    "// implementing quicksort\n",
    "// usually broken up into 2 functions:\n",
    "//  - the partition function \n",
    "//  - and the quicksort function\n",
    "\n",
    "private int[] _to_sort = { 9, 3, 7, 4, 420, 69, 69, 42 };\n",
    "\n",
    "public void QuickSort(int[] to_sort) {\n",
    "    RecQuickSort(to_sort, 0, to_sort.Length - 1);\n",
    "}\n",
    "\n",
    "private void RecQuickSort(int[] to_sort, int low, int high) {\n",
    "    Console.WriteLine((low, high));\n",
    "    if (low >= high) { // base case\n",
    "        return;\n",
    "    }\n",
    "    var pivot_idx = Partition(to_sort, low, high);\n",
    "    // perform the quicksort on either side of the pivot\n",
    "    RecQuickSort(to_sort, low, pivot_idx - 1);  // each call creates a new pivot index\n",
    "    RecQuickSort(to_sort, pivot_idx + 1, high); // for each segment, call twice\n",
    "}\n",
    "\n",
    "private int Partition(int[] to_sort, int low, int high) {\n",
    "    var pivot = to_sort[high]; // choosing pivot value to be last value in segment \n",
    "    var idx = low -1; // start the index off the segment\n",
    "    for (int i = low; i < high; ++ i) {\n",
    "        if (to_sort[i] <= pivot) { // \n",
    "            ++ idx; // increase index\n",
    "            var temp = to_sort[i]; // swap the value found thats less than the pivot into the index position\n",
    "            to_sort[i] = to_sort[idx];\n",
    "            to_sort[idx] = temp;\n",
    "        }\n",
    "    }\n",
    "    ++ idx; // increase index position by 1\n",
    "    to_sort[high] = to_sort[idx]; // swap high and pivot\n",
    "    to_sort[idx] = pivot;\n",
    "\n",
    "    return idx; // return pivot index\n",
    "}\n",
    "\n",
    "QuickSort(_to_sort);\n",
    "foreach (var i in _to_sort) {\n",
    "    Console.WriteLine(i);\n",
    "}"
   ]
  },
  {
   "cell_type": "code",
   "execution_count": null,
   "metadata": {
    "dotnet_interactive": {
     "language": "csharp"
    },
    "polyglot_notebook": {
     "kernelName": "csharp"
    }
   },
   "outputs": [],
   "source": []
  }
 ],
 "metadata": {
  "kernelspec": {
   "display_name": ".NET (F#)",
   "language": "F#",
   "name": ".net-fsharp"
  },
  "language_info": {
   "name": "polyglot-notebook"
  },
  "polyglot_notebook": {
   "kernelInfo": {
    "defaultKernelName": "fsharp",
    "items": [
     {
      "aliases": [],
      "languageName": "fsharp",
      "name": "fsharp"
     }
    ]
   }
  }
 },
 "nbformat": 4,
 "nbformat_minor": 2
}
